{
  "nbformat": 4,
  "nbformat_minor": 0,
  "metadata": {
    "colab": {
      "provenance": []
    },
    "kernelspec": {
      "name": "python3",
      "display_name": "Python 3"
    },
    "language_info": {
      "name": "python"
    },
    "accelerator": "GPU",
    "gpuClass": "standard"
  },
  "cells": [
    {
      "cell_type": "markdown",
      "source": [
        "Required Imports"
      ],
      "metadata": {
        "id": "R5CNRL1yuG_o"
      }
    },
    {
      "cell_type": "code",
      "source": [
        "import tensorflow as tf      \n",
        "from tensorflow import keras \n",
        "import numpy as np \n",
        "import matplotlib.pyplot as plt      # allows GUI for printing out the images during Validation "
      ],
      "metadata": {
        "id": "mFbBp5PpbSJi"
      },
      "execution_count": 1,
      "outputs": []
    },
    {
      "cell_type": "markdown",
      "source": [
        "Downloading the Datasets: The first step is to download the fashion dataset from MNIST which will be used to as the source of images for training, testing, and validation "
      ],
      "metadata": {
        "id": "zsWq5pPGuTZk"
      }
    },
    {
      "cell_type": "code",
      "source": [
        "my_data = keras.datasets.fashion_mnist\n",
        "(train_img, train_lab), (test_img, test_lab) = my_data.load_data()              # pre loads the train and test sets for images and labels from MNIST\n",
        "\n",
        "clothing_categories = ['Tops', 'Pants', 'Sweaters', 'Dresses', 'Jackets', 'Flip Flops', 'Shirts', 'Sneakers', 'Handbags', 'Boots']    # these are the 10 categories used to classify image input \n",
        "\n",
        "train_img = train_img/255.0\n",
        "test_img = test_img/255.0"
      ],
      "metadata": {
        "colab": {
          "base_uri": "https://localhost:8080/"
        },
        "id": "iluNJvybbdOH",
        "outputId": "c5b3b5e2-4351-48b2-ecc9-401b12e4f35b"
      },
      "execution_count": 2,
      "outputs": [
        {
          "output_type": "stream",
          "name": "stdout",
          "text": [
            "Downloading data from https://storage.googleapis.com/tensorflow/tf-keras-datasets/train-labels-idx1-ubyte.gz\n",
            "29515/29515 [==============================] - 0s 0us/step\n",
            "Downloading data from https://storage.googleapis.com/tensorflow/tf-keras-datasets/train-images-idx3-ubyte.gz\n",
            "26421880/26421880 [==============================] - 0s 0us/step\n",
            "Downloading data from https://storage.googleapis.com/tensorflow/tf-keras-datasets/t10k-labels-idx1-ubyte.gz\n",
            "5148/5148 [==============================] - 0s 0us/step\n",
            "Downloading data from https://storage.googleapis.com/tensorflow/tf-keras-datasets/t10k-images-idx3-ubyte.gz\n",
            "4422102/4422102 [==============================] - 0s 0us/step\n"
          ]
        }
      ]
    },
    {
      "cell_type": "markdown",
      "source": [
        "Develop the Model"
      ],
      "metadata": {
        "id": "WR305WZcgMOv"
      }
    },
    {
      "cell_type": "code",
      "source": [
        "model = keras.Sequential([\n",
        "    keras.layers.Flatten(input_shape=(28,28)),\n",
        "    keras.layers.Dense(128, activation=\"relu\"),                          # dense layers are layers where neurals are fully connected (each neuron in this layer is connected to every neuron in the previous layer (think surjective functions!))\n",
        "    keras.layers.Dense(10, activation=\"softmax\")                             \n",
        "    ])\n",
        "\n",
        "# relu --> allows us to filter out all non-zero results from the layer (increases precision of training by including a hidden dense layer with relu)\n",
        "# softmax --> kind of like a probability function where it will pick random weights for each neuron in a layer such that when all weights are summed up in a layer, they add up to 1   \n"
      ],
      "metadata": {
        "id": "mL-F7w14cbNa"
      },
      "execution_count": 3,
      "outputs": []
    },
    {
      "cell_type": "markdown",
      "source": [
        "Train the Model"
      ],
      "metadata": {
        "id": "ykDcQFCJgXdj"
      }
    },
    {
      "cell_type": "code",
      "source": [
        "model.compile(optimizer=\"adam\", loss=\"sparse_categorical_crossentropy\", metrics=[\"accuracy\"])     # set optimizer function to adam alg, loss function to sparse_categorical_crossentropy"
      ],
      "metadata": {
        "id": "9ilUERzNfYDS"
      },
      "execution_count": 4,
      "outputs": []
    },
    {
      "cell_type": "code",
      "source": [
        "model.fit(train_img, train_lab, epochs=5)                         # number of epochs = number of times the nn will see the same image "
      ],
      "metadata": {
        "colab": {
          "base_uri": "https://localhost:8080/"
        },
        "id": "yloatyTWfcgf",
        "outputId": "3de78001-3071-4929-875b-0b6f49fccbf0"
      },
      "execution_count": 5,
      "outputs": [
        {
          "output_type": "stream",
          "name": "stdout",
          "text": [
            "Epoch 1/5\n",
            "1875/1875 [==============================] - 7s 2ms/step - loss: 0.5006 - accuracy: 0.8236\n",
            "Epoch 2/5\n",
            "1875/1875 [==============================] - 4s 2ms/step - loss: 0.3754 - accuracy: 0.8663\n",
            "Epoch 3/5\n",
            "1875/1875 [==============================] - 4s 2ms/step - loss: 0.3369 - accuracy: 0.8768\n",
            "Epoch 4/5\n",
            "1875/1875 [==============================] - 4s 2ms/step - loss: 0.3134 - accuracy: 0.8842\n",
            "Epoch 5/5\n",
            "1875/1875 [==============================] - 4s 2ms/step - loss: 0.2953 - accuracy: 0.8911\n"
          ]
        },
        {
          "output_type": "execute_result",
          "data": {
            "text/plain": [
              "<keras.callbacks.History at 0x7f66143cfac0>"
            ]
          },
          "metadata": {},
          "execution_count": 5
        }
      ]
    },
    {
      "cell_type": "markdown",
      "source": [
        "Evaluate the Model: This step returns the performance of the model by percentage (how often does the model predict the correct match?)  "
      ],
      "metadata": {
        "id": "a65BO-NSgbSh"
      }
    },
    {
      "cell_type": "code",
      "source": [
        "test_loss, test_acc = model.evaluate(test_img, test_lab)\n",
        "\n",
        "print(\"Accuracy of testing: \", test_acc)"
      ],
      "metadata": {
        "colab": {
          "base_uri": "https://localhost:8080/"
        },
        "id": "YoDoIPndgDqv",
        "outputId": "c6ba2fb3-f14a-4b03-ddd0-ace8c32f9d2e"
      },
      "execution_count": 6,
      "outputs": [
        {
          "output_type": "stream",
          "name": "stdout",
          "text": [
            "313/313 [==============================] - 1s 3ms/step - loss: 0.3460 - accuracy: 0.8809\n",
            "Accuracy of testing:  0.8809000253677368\n"
          ]
        }
      ]
    },
    {
      "cell_type": "markdown",
      "source": [
        "Test the Model: Returns the prediction the model made (does not give us whether or not the prediction is correct or incorrect) "
      ],
      "metadata": {
        "id": "mJOGkkT2k9pt"
      }
    },
    {
      "cell_type": "code",
      "source": [
        "result = model.predict(test_img)                                                      # result currently will hold predictions of all test images, if you want the results of a particular image from test set, do test_img[index of image you want prediction for]  \n",
        "print(\"Most likely match: \", clothing_categories[np.argmax(result[0])])               # np.argmax, returns the index of the largest element in the list "
      ],
      "metadata": {
        "colab": {
          "base_uri": "https://localhost:8080/"
        },
        "id": "sdm-k1L1k21R",
        "outputId": "140b4ac4-f5c0-4d38-97d6-6dbaf88584de"
      },
      "execution_count": 11,
      "outputs": [
        {
          "output_type": "stream",
          "name": "stdout",
          "text": [
            "313/313 [==============================] - 1s 2ms/step\n",
            "Most likely match:  Boots\n"
          ]
        }
      ]
    },
    {
      "cell_type": "markdown",
      "source": [
        "Validate the Model : This step allows us to properly check if the model working accurately or not, a.k.a if the model is actually labelling the images correctly"
      ],
      "metadata": {
        "id": "5KoBLkuunwpW"
      }
    },
    {
      "cell_type": "code",
      "source": [
        "for x in range(5):\n",
        "  plt.grid(False)\n",
        "  plt.imshow(test_img[x],  cmap=plt.cm.binary)       # prints the test image being tested \n",
        "  plt.xlabel(\"Actual match: \" + clothing_categories[test_lab[x]])\n",
        "  plt.title(\"Predicted match: \" + clothing_categories[np.argmax(result[x])])\n",
        "  plt.show()\n"
      ],
      "metadata": {
        "colab": {
          "base_uri": "https://localhost:8080/",
          "height": 1000
        },
        "id": "V4kvgGEEn9Jz",
        "outputId": "5dcd1d1f-001a-4201-db90-7f17ad63b2a3"
      },
      "execution_count": 17,
      "outputs": [
        {
          "output_type": "display_data",
          "data": {
            "text/plain": [
              "<Figure size 432x288 with 1 Axes>"
            ],
            "image/png": "[encoded data removed]"
          },
          "metadata": {
            "needs_background": "light"
          }
        },
        {
          "output_type": "display_data",
          "data": {
            "text/plain": [
              "<Figure size 432x288 with 1 Axes>"
            ],
            "image/png": "[encoded data removed]"
          },
          "metadata": {
            "needs_background": "light"
          }
        },
        {
          "output_type": "display_data",
          "data": {
            "text/plain": [
              "<Figure size 432x288 with 1 Axes>"
            ],
            "image/png": "[encoded data removed]"
          },
          "metadata": {
            "needs_background": "light"
          }
        },
        {
          "output_type": "display_data",
          "data": {
            "text/plain": [
              "<Figure size 432x288 with 1 Axes>"
            ],
            "image/png": "[encoded data removed]"
          },
          "metadata": {
            "needs_background": "light"
          }
        },
        {
          "output_type": "display_data",
          "data": {
            "text/plain": [
              "<Figure size 432x288 with 1 Axes>"
            ],
            "image/png": "[encoded data removed]"
          },
          "metadata": {
            "needs_background": "light"
          }
        }
      ]
    }
  ]
}